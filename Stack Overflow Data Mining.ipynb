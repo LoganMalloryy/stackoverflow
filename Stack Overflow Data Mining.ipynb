{
 "cells": [
  {
   "cell_type": "code",
   "execution_count": 129,
   "metadata": {
    "collapsed": true
   },
   "outputs": [],
   "source": [
    "import pandas as pd\n",
    "import requests\n",
    "from bs4 import BeautifulSoup\n",
    "import time"
   ]
  },
  {
   "cell_type": "code",
   "execution_count": 130,
   "metadata": {
    "collapsed": true
   },
   "outputs": [],
   "source": [
    "urls = []\n",
    "for i in range(1,329632):\n",
    "    urls.append('https://stackoverflow.com/questions?pagesize=50&page=' + str(i) + '&sort=newest')"
   ]
  },
  {
   "cell_type": "code",
   "execution_count": 131,
   "metadata": {
    "collapsed": true
   },
   "outputs": [],
   "source": [
    "def getWebText(link):\n",
    "    headers = {'User-Agent': 'Mozilla/5.0 (Macintosh; Intel Mac OS X 10_11_5) AppleWebKit/537.36 (KHTML, like Gecko) Chrome/50.0.2661.102 Safari/537.36'}\n",
    "    result = requests.get(link, headers=headers)\n",
    "    webpage = result.content.decode()\n",
    "    return(webpage)"
   ]
  },
  {
   "cell_type": "code",
   "execution_count": 145,
   "metadata": {
    "collapsed": true
   },
   "outputs": [],
   "source": [
    "def getInfo(url):\n",
    "    soup = BeautifulSoup(getWebText(url), 'html.parser').find('div', attrs={'id': 'questions'})\n",
    "    qs = soup.find_all('div', attrs={'class':'question-summary'}) + soup.find_all('div', attrs={'class':'question-summary tagged-interesting'})\n",
    "    df = pd.DataFrame()\n",
    "    \n",
    "    for q in qs:\n",
    "        \n",
    "        info      = {}\n",
    "\n",
    "        info['q_id']      = q.get('id')\n",
    "        info['q_votes']   = q.find('div').find('div').find('div').find('div').find('span').find('strong').text\n",
    "        try:\n",
    "            info['q_answers'] = q.find('div').find('div').find('div', attrs={'class':'status unanswered'}).find('strong').text\n",
    "            info['q_answer_accepted'] = 0\n",
    "        except AttributeError:\n",
    "            try:\n",
    "                info['q_answers'] = q.find('div').find('div').find('div', attrs={'class':'status answered'}).find('strong').text\n",
    "                info['q_answer_accepted'] = 0\n",
    "            except AttributeError:\n",
    "                info['q_answers'] = q.find('div').find('div').find('div', attrs={'class':'status answered-accepted'}).find('strong').text\n",
    "                info['q_answer_accepted'] = 1\n",
    "        try:\n",
    "            info['q_views']   = q.find('div').find('div', attrs={'class':'views '}).get('title')\n",
    "        except:\n",
    "            try:\n",
    "                info['q_views']   = q.find('div').find('div', attrs={'class':'views warm'}).get('title')\n",
    "            except:\n",
    "                try:\n",
    "                    info['q_views']   = q.find('div').find('div', attrs={'class':'views hot'}).get('title')\n",
    "                except:\n",
    "                    info['q_views']   = q.find('div').find('div', attrs={'class':'views supernova'}).get('title')\n",
    "        info['q_views']   = info['q_views'].replace(' views','')\n",
    "        info['q_url']     = q.find('div', attrs={'class':'summary'}).find('h3').find('a').get('href')\n",
    "        info['q_title']   = q.find('div', attrs={'class':'summary'}).find('h3').find('a').text\n",
    "        try:\n",
    "            info['q_tags']    = ','.join(q.find('div', attrs={'class':'summary'}).find_all('div')[1].get('class')).replace('tags,','').replace('t-','')\n",
    "        except IndexError:\n",
    "            info['q_tags']    = ''\n",
    "        try:\n",
    "            info['q_time']    = q.find('div', attrs={'class':'started fr'}).find('div').find('div', attrs={'class':'user-action-time'}).find('span').get('title')\n",
    "        except:\n",
    "            info['q_time']    = ''\n",
    "        try:\n",
    "            info['q_user_url']      = q.find('div', attrs={'class':'started fr'}).find('div').find('div', attrs={'class':'user-gravatar32'}).find('a').get('href')\n",
    "        except AttributeError:\n",
    "            df = pd.concat([df, pd.DataFrame(info, index = [0])])\n",
    "            continue\n",
    "        info['q_user_repscore'] = q.find('div', attrs={'class':'started fr'}).find('div', attrs={'class':'user-details'}).find('span', attrs={'class':'reputation-score'}).text\n",
    "\n",
    "        titles = []\n",
    "        for sp in q.find('div', attrs={'class':'started fr'}).find('div', attrs={'class':'user-details'}).find_all('span')[1:]:\n",
    "            titles.append(sp.get('title'))\n",
    "        titles = [x for x in titles if x is not None]\n",
    "        badges = {'bronze':0, 'silver':0, 'gold':0}\n",
    "        for b in titles:\n",
    "            bnum  = b.split()[0]\n",
    "            bname = b.split()[1]\n",
    "            badges[bname] = bnum\n",
    "\n",
    "        info['q_user_badges_bronze']   = badges['bronze']\n",
    "        info['q_user_badges_silver']   = badges['silver']\n",
    "        info['q_user_badges_gold']     = badges['gold']\n",
    "        df = pd.concat([df, pd.DataFrame(info, index = [0])])\n",
    "\n",
    "    return(df)"
   ]
  },
  {
   "cell_type": "code",
   "execution_count": 234,
   "metadata": {},
   "outputs": [
    {
     "name": "stdout",
     "output_type": "stream",
     "text": [
      "https://stackoverflow.com/questions?pagesize=50&page=500&sort=newest\r"
     ]
    }
   ],
   "source": [
    "questions = pd.DataFrame()\n",
    "p1 = 0\n",
    "p2 = 0      \n",
    "for u in urls:\n",
    "    #time.sleep(0.5)\n",
    "    p2 = p2+1\n",
    "    print(u, end = '\\r')#print urls\n",
    "    frame = getInfo(u)\n",
    "    questions = pd.concat([questions, frame]) \n",
    "    if p2 >= (p1+1000): #export data every 1000 rows to be safe\n",
    "        questions.to_csv('~/data_' + str(p1) + '_' + str(p2) + '.csv')\n",
    "        questions = pd.DataFrame()\n",
    "        p1 = p2\n",
    "        "
   ]
  },
  {
   "cell_type": "code",
   "execution_count": null,
   "metadata": {
    "collapsed": true
   },
   "outputs": [],
   "source": []
  }
 ],
 "metadata": {
  "kernelspec": {
   "display_name": "Python 3",
   "language": "python",
   "name": "python3"
  },
  "language_info": {
   "codemirror_mode": {
    "name": "ipython",
    "version": 3
   },
   "file_extension": ".py",
   "mimetype": "text/x-python",
   "name": "python",
   "nbconvert_exporter": "python",
   "pygments_lexer": "ipython3",
   "version": "3.6.3"
  }
 },
 "nbformat": 4,
 "nbformat_minor": 2
}
